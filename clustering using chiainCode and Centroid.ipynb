{
  "cells": [
    {
      "cell_type": "markdown",
      "metadata": {
        "id": "view-in-github",
        "colab_type": "text"
      },
      "source": [
        "<a href=\"https://colab.research.google.com/github/AhmedWael2000/classical-machine-learning/blob/main/clustering%20using%20chiainCode%20and%20Centroid.ipynb\" target=\"_parent\"><img src=\"https://colab.research.google.com/assets/colab-badge.svg\" alt=\"Open In Colab\"/></a>"
      ]
    },
    {
      "cell_type": "code",
      "execution_count": null,
      "id": "28d59c61",
      "metadata": {
        "id": "28d59c61"
      },
      "outputs": [],
      "source": [
        "import cv2\n",
        "import numpy as np\n",
        "from matplotlib import pyplot as plt\n",
        "from tensorflow.keras import datasets\n",
        "from sklearn.model_selection import train_test_split\n",
        "from sklearn.ensemble import RandomForestClassifier\n",
        "from sklearn.metrics import accuracy_score\n",
        "import numpy as np\n",
        "from tqdm.notebook import tqdm"
      ]
    },
    {
      "cell_type": "markdown",
      "id": "VElcY3pBBZbF",
      "metadata": {
        "id": "VElcY3pBBZbF"
      },
      "source": [
        "# Chain Code"
      ]
    },
    {
      "cell_type": "code",
      "execution_count": null,
      "id": "48c62df8",
      "metadata": {
        "id": "48c62df8"
      },
      "outputs": [],
      "source": [
        "def min_circular_shift(seq):\n",
        "    min_shift = seq\n",
        "    for i in range(1, len(seq)):\n",
        "        shifted_seq = seq[i:] + seq[:i]\n",
        "        if shifted_seq < min_shift:\n",
        "            min_shift = shifted_seq\n",
        "    return min_shift"
      ]
    },
    {
      "cell_type": "code",
      "execution_count": null,
      "id": "4f58d405",
      "metadata": {
        "id": "4f58d405",
        "scrolled": true
      },
      "outputs": [],
      "source": [
        "# Function to extract chain code features for a single image\n",
        "def extract_chain_code_features(image):\n",
        "\n",
        "    dx = [1, 1, 0, -1, -1, -1, 0, 1]\n",
        "    dy = [0, 1, 1, 1, 0, -1, -1, -1]\n",
        "    who = [0, 1, 2, 3, 4, 5, 6, 7]\n",
        "    # Convert the image to binary\n",
        "    # Find contours in the binary image\n",
        "    ret, thresh = cv2.threshold(image, 127, 255, cv2.THRESH_BINARY)\n",
        "    contour, _ = cv2.findContours(thresh, cv2.RETR_EXTERNAL, cv2.CHAIN_APPROX_NONE)\n",
        "    boundary = max(contour, key=len).reshape(-1,2)\n",
        "    contour_image = np.zeros_like(image, dtype=np.uint8)\n",
        "\n",
        "    # Calculate chain code\n",
        "    chain_code = []\n",
        "    for i in range(len(boundary) - 1):\n",
        "        x, z = boundary[i]\n",
        "        next_x, next_z = boundary[i + 1]\n",
        "        nx = next_x - x\n",
        "        ny = next_z - z\n",
        "        for i in range(8):\n",
        "            if nx == dx[i] and ny == dy[i]:\n",
        "                code = who[i]\n",
        "                break\n",
        "        chain_code.append(code)\n",
        "    if not chain_code:\n",
        "        return []\n",
        "\n",
        "    min_shift = min_circular_shift(chain_code)\n",
        "    return min_shift"
      ]
    },
    {
      "cell_type": "code",
      "execution_count": null,
      "id": "4bafd4c0",
      "metadata": {
        "id": "4bafd4c0"
      },
      "outputs": [],
      "source": [
        "(x_train, y_train), (x_test, y_test) = datasets.mnist.load_data()\n",
        "\n",
        "n_samples = y_train.shape[0] + y_test.shape[0]\n",
        "X_images = np.concatenate((x_train, x_test), axis=0)\n",
        "Y = np.concatenate((y_train, y_test), axis=0)"
      ]
    },
    {
      "cell_type": "code",
      "execution_count": null,
      "id": "tgIUa8iSefP3",
      "metadata": {
        "colab": {
          "base_uri": "https://localhost:8080/",
          "height": 406
        },
        "id": "tgIUa8iSefP3",
        "outputId": "45461d79-38d6-4a99-a8f9-2a7e36a36b76"
      },
      "outputs": [
        {
          "data": {
            "image/png": "[encoded data removed]",
            "text/plain": [
              "<Figure size 640x480 with 1 Axes>"
            ]
          },
          "metadata": {},
          "output_type": "display_data"
        }
      ],
      "source": [
        "image = x_train[0]\n",
        "ret, thresh = cv2.threshold(image, 127, 255, cv2.THRESH_BINARY)\n",
        "contour, _ = cv2.findContours(thresh, cv2.RETR_EXTERNAL, cv2.CHAIN_APPROX_NONE)\n",
        "boundary = max(contour, key=len).reshape(-1,2)\n",
        "contour_image = np.zeros_like(image, dtype=np.uint8)\n",
        "for p in boundary:\n",
        "    contour_image[p[1]][p[0]] = 255\n",
        "plt.imshow(contour_image, cmap='gray')\n",
        "plt.axis(False)\n",
        "plt.show()"
      ]
    },
    {
      "cell_type": "code",
      "execution_count": null,
      "id": "568de4d7",
      "metadata": {
        "id": "568de4d7"
      },
      "outputs": [],
      "source": [
        "X = []\n",
        "for image in X_images:\n",
        "    chain_code = extract_chain_code_features(image)\n",
        "    X.append(chain_code)"
      ]
    },
    {
      "cell_type": "code",
      "execution_count": null,
      "id": "04887534",
      "metadata": {
        "id": "04887534",
        "scrolled": true
      },
      "outputs": [],
      "source": [
        "max_length = max(map(len, X))\n",
        "extracted_features = []\n",
        "for chain in X:\n",
        "    chain_code = chain + [0] * (max_length - len(chain))\n",
        "    extracted_features.append(chain_code)"
      ]
    },
    {
      "cell_type": "code",
      "execution_count": null,
      "id": "09ace7fe",
      "metadata": {
        "id": "09ace7fe"
      },
      "outputs": [],
      "source": [
        "X_chain_code = np.array(extracted_features)\n",
        "Y = np.array(Y)\n",
        "# X_train, X_test, y_train, y_test = train_test_split(extracted_features, Y, test_size=0.3, random_state=1234)"
      ]
    },
    {
      "cell_type": "markdown",
      "id": "vkTr13qzCQ-9",
      "metadata": {
        "id": "vkTr13qzCQ-9"
      },
      "source": [
        "######################################"
      ]
    },
    {
      "cell_type": "markdown",
      "id": "5R72ZgnfBhRj",
      "metadata": {
        "id": "5R72ZgnfBhRj"
      },
      "source": [
        "#Centroid"
      ]
    },
    {
      "cell_type": "code",
      "execution_count": null,
      "id": "GWSLK0PWBirv",
      "metadata": {
        "id": "GWSLK0PWBirv"
      },
      "outputs": [],
      "source": []
    },
    {
      "cell_type": "code",
      "execution_count": null,
      "id": "uBKa0Oy4SbHD",
      "metadata": {
        "id": "uBKa0Oy4SbHD"
      },
      "outputs": [],
      "source": []
    },
    {
      "cell_type": "code",
      "execution_count": null,
      "id": "S2FeQbFkQ7VQ",
      "metadata": {
        "id": "S2FeQbFkQ7VQ"
      },
      "outputs": [],
      "source": [
        "(X_train, Y_train) , (X_test, Y_test) = datasets.mnist.load_data()"
      ]
    },
    {
      "cell_type": "code",
      "execution_count": null,
      "id": "AEbmaLCBSCLR",
      "metadata": {
        "colab": {
          "base_uri": "https://localhost:8080/"
        },
        "id": "AEbmaLCBSCLR",
        "outputId": "07339e35-2a03-462f-cd7d-8c3705be82f1"
      },
      "outputs": [
        {
          "data": {
            "text/plain": [
              "((70000, 28, 28), (70000,))"
            ]
          },
          "execution_count": 108,
          "metadata": {},
          "output_type": "execute_result"
        }
      ],
      "source": [
        "X = np.concatenate((X_train,X_test))/255\n",
        "y = np.concatenate((Y_train,Y_test))\n",
        "X.shape, y.shape"
      ]
    },
    {
      "cell_type": "markdown",
      "id": "BaLZkn-7yPwL",
      "metadata": {
        "id": "BaLZkn-7yPwL"
      },
      "source": [
        "# Indexing"
      ]
    },
    {
      "cell_type": "code",
      "execution_count": null,
      "id": "6GCWKtfiiZDG",
      "metadata": {
        "id": "6GCWKtfiiZDG"
      },
      "outputs": [],
      "source": [
        "# get index\n",
        "def getXF(img_):\n",
        "  img = img_.copy()\n",
        "  for i in range(img.shape[0]):\n",
        "    img[i,:] = i\n",
        "  return img"
      ]
    },
    {
      "cell_type": "code",
      "execution_count": null,
      "id": "dPKBoD25i7jR",
      "metadata": {
        "id": "dPKBoD25i7jR"
      },
      "outputs": [],
      "source": [
        "def getYF(img_):\n",
        "  img = img_.copy()\n",
        "  for i in range(img.shape[1]):\n",
        "    img[:,i] = i\n",
        "  return img"
      ]
    },
    {
      "cell_type": "markdown",
      "id": "KE4njsZSYVDL",
      "metadata": {
        "id": "KE4njsZSYVDL"
      },
      "source": [
        "#Visualizing Slicing"
      ]
    },
    {
      "cell_type": "code",
      "execution_count": null,
      "id": "evzASfWarc9e",
      "metadata": {
        "id": "evzASfWarc9e"
      },
      "outputs": [],
      "source": [
        "def findBLocks(img,dim1 = 3,dim2 =3):\n",
        "  data =[]\n",
        "\n",
        "  for i in range(0,img.shape[0],dim1):\n",
        "    for j in range(0, img.shape[1], dim2):\n",
        "      block =img[i : i + dim1 ,j : j + dim2]\n",
        "      idX = getXF(block)\n",
        "      idY = getYF(block)\n",
        "      mul1 = block * idX\n",
        "      mul2 = block * idY\n",
        "      X_bar = (mul1).sum() / (1e-9+ block.sum())\n",
        "      Y_bar = (mul2).sum() / (1e-9+ block.sum())\n",
        "      data.append(X_bar)\n",
        "      data.append(Y_bar)\n",
        "  return data"
      ]
    },
    {
      "cell_type": "code",
      "execution_count": null,
      "id": "W_oRdCMuouod",
      "metadata": {
        "id": "W_oRdCMuouod"
      },
      "outputs": [],
      "source": [
        "X_controid = [findBLocks(i,3,3) for i in X]"
      ]
    },
    {
      "cell_type": "code",
      "execution_count": null,
      "id": "Qdnx5lGQm-gE",
      "metadata": {
        "id": "Qdnx5lGQm-gE"
      },
      "outputs": [],
      "source": [
        "X_controid = np.array(X_controid)"
      ]
    },
    {
      "cell_type": "code",
      "execution_count": null,
      "id": "jU1YPx2pnFRo",
      "metadata": {
        "colab": {
          "base_uri": "https://localhost:8080/"
        },
        "id": "jU1YPx2pnFRo",
        "outputId": "5fefbb45-e569-4be8-bd41-c97fae0cdb5e"
      },
      "outputs": [
        {
          "data": {
            "text/plain": [
              "(70000, 200)"
            ]
          },
          "execution_count": 114,
          "metadata": {},
          "output_type": "execute_result"
        }
      ],
      "source": [
        "X_controid.shape"
      ]
    },
    {
      "cell_type": "markdown",
      "id": "wNwE125gIKAe",
      "metadata": {
        "id": "wNwE125gIKAe"
      },
      "source": [
        "#Visualizaton"
      ]
    },
    {
      "cell_type": "code",
      "execution_count": null,
      "id": "YzMd6w3jl9n0",
      "metadata": {
        "id": "YzMd6w3jl9n0"
      },
      "outputs": [],
      "source": [
        "def SliceImg(img, dim1,dim2):\n",
        "\n",
        "  fig , ax = plt.subplots(int(np.ceil(28/dim1)),int(np.ceil(28/dim2)),figsize=(5,5))\n",
        "\n",
        "  for i in range(0,img.shape[0],dim1):\n",
        "    for j in range(0, img.shape[1], dim2):\n",
        "      ax[i//dim1,j//dim2].imshow(img[i : i + dim1 ,j : j + dim2] ,cmap='gray')\n",
        "      ax[i//dim1,j//dim2].axis(\"off\")\n",
        "\n",
        "  fig.tight_layout()\n",
        "  fig.show()"
      ]
    },
    {
      "cell_type": "code",
      "execution_count": null,
      "id": "hLDLbEG4lmK5",
      "metadata": {
        "colab": {
          "base_uri": "https://localhost:8080/",
          "height": 507
        },
        "id": "hLDLbEG4lmK5",
        "outputId": "3bf8aea5-45a2-4a10-ac8a-eb9fc1746e61"
      },
      "outputs": [
        {
          "data": {
            "image/png": "[encoded data removed]",
            "text/plain": [
              "<Figure size 500x500 with 100 Axes>"
            ]
          },
          "metadata": {},
          "output_type": "display_data"
        }
      ],
      "source": [
        "SliceImg(X_train[5],3,3)"
      ]
    },
    {
      "cell_type": "code",
      "execution_count": null,
      "id": "ArI1QLFpIN4h",
      "metadata": {
        "colab": {
          "base_uri": "https://localhost:8080/",
          "height": 1000
        },
        "id": "ArI1QLFpIN4h",
        "outputId": "dd504373-0929-460e-b53c-a5335d3a1c13"
      },
      "outputs": [
        {
          "data": {
            "image/png": "[encoded data removed]",
            "text/plain": [
              "<Figure size 1000x2000 with 10 Axes>"
            ]
          },
          "metadata": {},
          "output_type": "display_data"
        }
      ],
      "source": [
        "import matplotlib.pyplot as plt\n",
        "x_new = X_controid.reshape(-1,10,20)\n",
        "fig,ax = plt.subplots(5,2,figsize=(10,20))\n",
        "\n",
        "for i in range(5):\n",
        "  ax[i,0].imshow(X_train[i],cmap='gray')\n",
        "  ax[i,1].imshow(x_new[i],cmap='gray')\n"
      ]
    },
    {
      "cell_type": "markdown",
      "id": "mnYvuoXUFSOl",
      "metadata": {
        "id": "mnYvuoXUFSOl"
      },
      "source": [
        "#K-mean"
      ]
    },
    {
      "cell_type": "code",
      "execution_count": null,
      "id": "579ZmUtZErDr",
      "metadata": {
        "id": "579ZmUtZErDr"
      },
      "outputs": [],
      "source": [
        "\n",
        "k=10\n",
        "def distance(vec1,vec2):\n",
        "  return np.sqrt(np.sum((vec1-vec2)**2))\n",
        "\n",
        "def chooseCentroids(X,y,clusters=10):\n",
        "  init= []\n",
        "  for i in range(clusters):\n",
        "    av = np.mean( X[y==i],axis = 0)\n",
        "    init.append(av)\n",
        "  # idx = np.random.choice(X.shape[0],clusters,replace=False)\n",
        "  return np.array(init)\n",
        "\n",
        "def updateCentroids(X,pred):\n",
        "  # print(X.mean(axis=0).shape)\n",
        "  centroids= np.zeros(shape=(k,X.shape[1]))\n",
        "  # print(centroids.shape)\n",
        "  for i in range(len(centroids)):\n",
        "    # print(X[pred == i].mean(axis=0))\n",
        "    centroids[i] = X[pred == i].mean(axis=0)\n",
        "\n",
        "  return centroids\n",
        "\n",
        "\n",
        "\n",
        "def Kmean(X,y,clusters=10,iter=10):\n",
        "  centroids = chooseCentroids(X,y)\n",
        "  pred=[]\n",
        "  for _ in tqdm(range(iter)):\n",
        "    pred=[]\n",
        "    for j in X:\n",
        "      dist = np.zeros(10)\n",
        "      for i,c in enumerate(centroids):\n",
        "        dist[i] = distance(c,j)\n",
        "      min_= dist.argmin()\n",
        "      pred.append(min_)\n",
        "    pred=np.array(pred)\n",
        "    centroids = updateCentroids(X,pred)\n",
        "  return np.array(pred),centroids\n",
        "\n",
        "def predict(centroids,X):\n",
        "  pred=[]\n",
        "  for j in X:\n",
        "      dist = np.zeros(10)\n",
        "      for i,c in enumerate(centroids):\n",
        "        dist[i] = distance(c,j)\n",
        "      min_= dist.argmin()\n",
        "      pred.append(min_)\n",
        "\n",
        "  return np.array(pred)"
      ]
    },
    {
      "cell_type": "markdown",
      "id": "y6CBjiR_QpA8",
      "metadata": {
        "id": "y6CBjiR_QpA8"
      },
      "source": [
        "#kmean with chain code"
      ]
    },
    {
      "cell_type": "code",
      "execution_count": null,
      "id": "t8Q0uAn_XisT",
      "metadata": {
        "id": "t8Q0uAn_XisT"
      },
      "outputs": [],
      "source": [
        "\n",
        "from sklearn.model_selection import train_test_split\n",
        "\n",
        "X_train_chain_code, X_test_chain_code, y_train, y_test = train_test_split(X_chain_code, Y, test_size=0.2, random_state=42)\n"
      ]
    },
    {
      "cell_type": "code",
      "execution_count": null,
      "id": "mcF2S-UpY0hn",
      "metadata": {
        "colab": {
          "base_uri": "https://localhost:8080/",
          "height": 49,
          "referenced_widgets": [
            "c93c6f4744fe42309f0468404b17987f",
            "cb98d3a1f4a943eab51248ba9842153e",
            "a631ec13d50c407197b45fe7ac35e0d8",
            "60fc2667eb294045b182023e6e051418",
            "2a3da4fc8762465db857ad07f5130291",
            "53b825fd84d74c1e9d5897ed38d80a27",
            "e205b4cfe23c40a59ec0d93833c35550",
            "70f32acc71d94c39b85668b1be15218b",
            "4c1a991387704895aa63425c8cbf11de",
            "b81e1119d799471fbcfcfecd4cd4cb8b",
            "7b31b67b8a054c50b7092bbcade1d489"
          ]
        },
        "id": "mcF2S-UpY0hn",
        "outputId": "1877c852-84b4-4586-a7fb-3af5d65155ad"
      },
      "outputs": [
        {
          "data": {
            "application/vnd.jupyter.widget-view+json": {
              "model_id": "c93c6f4744fe42309f0468404b17987f",
              "version_major": 2,
              "version_minor": 0
            },
            "text/plain": [
              "  0%|          | 0/10 [00:00<?, ?it/s]"
            ]
          },
          "metadata": {},
          "output_type": "display_data"
        }
      ],
      "source": [
        "chain_code_trainpred,centroids = Kmean(X_train_chain_code,y_train,clusters=10,iter=10)\n",
        "chain_code_testpred = predict(centroids,X_test_chain_code)"
      ]
    },
    {
      "cell_type": "markdown",
      "id": "uKXuTdorYAdI",
      "metadata": {
        "id": "uKXuTdorYAdI"
      },
      "source": [
        "#Kmean with centroids"
      ]
    },
    {
      "cell_type": "code",
      "execution_count": null,
      "id": "ZquCDmfIYEFO",
      "metadata": {
        "id": "ZquCDmfIYEFO"
      },
      "outputs": [],
      "source": [
        "\n",
        "from sklearn.model_selection import train_test_split\n",
        "\n",
        "X_controid_train, X_controid_test, y_train, y_test = train_test_split(X_controid, Y, test_size=0.2, random_state=42)\n"
      ]
    },
    {
      "cell_type": "code",
      "execution_count": null,
      "id": "rOEkj9dIYyhm",
      "metadata": {
        "colab": {
          "background_save": true,
          "base_uri": "https://localhost:8080/",
          "height": 49,
          "referenced_widgets": [
            "871d19615691421a9d6dd77520f2e874",
            "5b1b37f79d84489da8fea76a8f994395",
            "82f9a501f8504de9a51117ded04c48ae",
            "2eef5259bbce4e97934b6f9ca1c06397",
            "30d038436e2949f09d7a0fd48d597643",
            "2b66d13bcdcb4173bc9eaca4e5fae6af",
            "b51b91691d0b465e8b781be605f243cf",
            "089426b3747a4dcca099a497df0fa4d5",
            "4f8d049deca64321a3add9a5a8e78f6f",
            "7711d60244244abf9932ec9d66a8a631",
            "6baad9d41f4442d5801eda7c82b16726"
          ]
        },
        "id": "rOEkj9dIYyhm",
        "outputId": "adb0acef-ee7c-4e85-a7d6-396b96f2d52a"
      },
      "outputs": [
        {
          "data": {
            "application/vnd.jupyter.widget-view+json": {
              "model_id": "871d19615691421a9d6dd77520f2e874",
              "version_major": 2,
              "version_minor": 0
            },
            "text/plain": [
              "  0%|          | 0/10 [00:00<?, ?it/s]"
            ]
          },
          "metadata": {},
          "output_type": "display_data"
        }
      ],
      "source": [
        "centroid_trainpred,centroids = Kmean(X_controid_train,y_train,clusters=10,iter=10)\n",
        "centroid_testpred = predict(centroids,X_controid_test)"
      ]
    },
    {
      "cell_type": "markdown",
      "id": "Pok7JAkAZ2Hg",
      "metadata": {
        "id": "Pok7JAkAZ2Hg"
      },
      "source": [
        "#Comparing"
      ]
    },
    {
      "cell_type": "code",
      "execution_count": null,
      "id": "0QbP_0f7Z4IX",
      "metadata": {
        "colab": {
          "background_save": true
        },
        "id": "0QbP_0f7Z4IX",
        "outputId": "96c9e48e-2028-45fa-adbd-4a5678cf261a"
      },
      "outputs": [
        {
          "name": "stdout",
          "output_type": "stream",
          "text": [
            "For class 0, True values: 1343, chain code:2398, centroid:1172 better algo: Centroid\n",
            "For class 1, True values: 1600, chain code:1818, centroid:1699 better algo: Centroid\n",
            "For class 2, True values: 1380, chain code:945, centroid:1100 better algo: Centroid\n",
            "For class 3, True values: 1433, chain code:856, centroid:1572 better algo: Centroid\n",
            "For class 4, True values: 1295, chain code:1046, centroid:1368 better algo: Centroid\n",
            "For class 5, True values: 1273, chain code:1408, centroid:1422 better algo: Chain Code\n",
            "For class 6, True values: 1396, chain code:876, centroid:1082 better algo: Centroid\n",
            "For class 7, True values: 1503, chain code:1857, centroid:1435 better algo: Centroid\n",
            "For class 8, True values: 1357, chain code:1223, centroid:1616 better algo: Chain Code\n",
            "For class 9, True values: 1420, chain code:1573, centroid:1534 better algo: Centroid\n"
          ]
        }
      ],
      "source": [
        "import pandas as pd\n",
        "y_test_values = pd.DataFrame(y_test).value_counts()\n",
        "chain_codes_values = pd.DataFrame(chain_code_testpred).value_counts()\n",
        "centroids_values = pd.DataFrame(centroid_testpred).value_counts()\n",
        "\n",
        "def chainCode_centroid(chain_codes_values, centroids_values, y_train_values):\n",
        "  for i in range(len(y_train_values)):\n",
        "    chain_differ = abs(y_train_values[i] - chain_codes_values[i])\n",
        "    centroid_differ = abs(y_train_values[i] - centroids_values[i])\n",
        "    print(f\"For class {i}, True values: {y_train_values[i]}, chain code:{chain_codes_values[i]}, centroid:{centroids_values[i]} better algo:\", \"Centroid\" if centroid_differ<chain_differ else \"Chain Code\")\n",
        "\n",
        "chainCode_centroid(chain_codes_values, centroids_values, y_test_values)"
      ]
    },
    {
      "cell_type": "code",
      "execution_count": null,
      "id": "x2sw6Qc6ano1",
      "metadata": {
        "colab": {
          "background_save": true
        },
        "id": "x2sw6Qc6ano1",
        "outputId": "09dca439-f520-4287-ca0d-9a9177e60c4f"
      },
      "outputs": [
        {
          "data": {
            "text/plain": [
              "(1    1600\n",
              " 7    1503\n",
              " 3    1433\n",
              " 9    1420\n",
              " 6    1396\n",
              " 2    1380\n",
              " 8    1357\n",
              " 0    1343\n",
              " 4    1295\n",
              " 5    1273\n",
              " Name: count, dtype: int64,\n",
              " 0    2398\n",
              " 7    1857\n",
              " 1    1818\n",
              " 9    1573\n",
              " 5    1408\n",
              " 8    1223\n",
              " 4    1046\n",
              " 2     945\n",
              " 6     876\n",
              " 3     856\n",
              " Name: count, dtype: int64,\n",
              " 1    1699\n",
              " 8    1616\n",
              " 3    1572\n",
              " 9    1534\n",
              " 7    1435\n",
              " 5    1422\n",
              " 4    1368\n",
              " 0    1172\n",
              " 2    1100\n",
              " 6    1082\n",
              " Name: count, dtype: int64)"
            ]
          },
          "execution_count": 124,
          "metadata": {},
          "output_type": "execute_result"
        }
      ],
      "source": [
        "y_test_values , chain_codes_values, centroids_values"
      ]
    },
    {
      "cell_type": "code",
      "execution_count": null,
      "id": "Z6i2QLNvaska",
      "metadata": {
        "colab": {
          "background_save": true
        },
        "id": "Z6i2QLNvaska"
      },
      "outputs": [],
      "source": []
    }
  ],
  "metadata": {
    "colab": {
      "provenance": [],
      "include_colab_link": true
    },
    "kernelspec": {
      "display_name": "Python 3 (ipykernel)",
      "language": "python",
      "name": "python3"
    },
    "language_info": {
      "codemirror_mode": {
        "name": "ipython",
        "version": 3
      },
      "file_extension": ".py",
      "mimetype": "text/x-python",
      "name": "python",
      "nbconvert_exporter": "python",
      "pygments_lexer": "ipython3",
      "version": "3.9.12"
    },
    "widgets": {
      "application/vnd.jupyter.widget-state+json": {
        "089426b3747a4dcca099a497df0fa4d5": {
          "model_module": "@jupyter-widgets/base",
          "model_module_version": "1.2.0",
          "model_name": "LayoutModel",
          "state": {
            "_model_module": "@jupyter-widgets/base",
            "_model_module_version": "1.2.0",
            "_model_name": "LayoutModel",
            "_view_count": null,
            "_view_module": "@jupyter-widgets/base",
            "_view_module_version": "1.2.0",
            "_view_name": "LayoutView",
            "align_content": null,
            "align_items": null,
            "align_self": null,
            "border": null,
            "bottom": null,
            "display": null,
            "flex": null,
            "flex_flow": null,
            "grid_area": null,
            "grid_auto_columns": null,
            "grid_auto_flow": null,
            "grid_auto_rows": null,
            "grid_column": null,
            "grid_gap": null,
            "grid_row": null,
            "grid_template_areas": null,
            "grid_template_columns": null,
            "grid_template_rows": null,
            "height": null,
            "justify_content": null,
            "justify_items": null,
            "left": null,
            "margin": null,
            "max_height": null,
            "max_width": null,
            "min_height": null,
            "min_width": null,
            "object_fit": null,
            "object_position": null,
            "order": null,
            "overflow": null,
            "overflow_x": null,
            "overflow_y": null,
            "padding": null,
            "right": null,
            "top": null,
            "visibility": null,
            "width": null
          }
        },
        "2a3da4fc8762465db857ad07f5130291": {
          "model_module": "@jupyter-widgets/base",
          "model_module_version": "1.2.0",
          "model_name": "LayoutModel",
          "state": {
            "_model_module": "@jupyter-widgets/base",
            "_model_module_version": "1.2.0",
            "_model_name": "LayoutModel",
            "_view_count": null,
            "_view_module": "@jupyter-widgets/base",
            "_view_module_version": "1.2.0",
            "_view_name": "LayoutView",
            "align_content": null,
            "align_items": null,
            "align_self": null,
            "border": null,
            "bottom": null,
            "display": null,
            "flex": null,
            "flex_flow": null,
            "grid_area": null,
            "grid_auto_columns": null,
            "grid_auto_flow": null,
            "grid_auto_rows": null,
            "grid_column": null,
            "grid_gap": null,
            "grid_row": null,
            "grid_template_areas": null,
            "grid_template_columns": null,
            "grid_template_rows": null,
            "height": null,
            "justify_content": null,
            "justify_items": null,
            "left": null,
            "margin": null,
            "max_height": null,
            "max_width": null,
            "min_height": null,
            "min_width": null,
            "object_fit": null,
            "object_position": null,
            "order": null,
            "overflow": null,
            "overflow_x": null,
            "overflow_y": null,
            "padding": null,
            "right": null,
            "top": null,
            "visibility": null,
            "width": null
          }
        },
        "2b66d13bcdcb4173bc9eaca4e5fae6af": {
          "model_module": "@jupyter-widgets/base",
          "model_module_version": "1.2.0",
          "model_name": "LayoutModel",
          "state": {
            "_model_module": "@jupyter-widgets/base",
            "_model_module_version": "1.2.0",
            "_model_name": "LayoutModel",
            "_view_count": null,
            "_view_module": "@jupyter-widgets/base",
            "_view_module_version": "1.2.0",
            "_view_name": "LayoutView",
            "align_content": null,
            "align_items": null,
            "align_self": null,
            "border": null,
            "bottom": null,
            "display": null,
            "flex": null,
            "flex_flow": null,
            "grid_area": null,
            "grid_auto_columns": null,
            "grid_auto_flow": null,
            "grid_auto_rows": null,
            "grid_column": null,
            "grid_gap": null,
            "grid_row": null,
            "grid_template_areas": null,
            "grid_template_columns": null,
            "grid_template_rows": null,
            "height": null,
            "justify_content": null,
            "justify_items": null,
            "left": null,
            "margin": null,
            "max_height": null,
            "max_width": null,
            "min_height": null,
            "min_width": null,
            "object_fit": null,
            "object_position": null,
            "order": null,
            "overflow": null,
            "overflow_x": null,
            "overflow_y": null,
            "padding": null,
            "right": null,
            "top": null,
            "visibility": null,
            "width": null
          }
        },
        "2eef5259bbce4e97934b6f9ca1c06397": {
          "model_module": "@jupyter-widgets/controls",
          "model_module_version": "1.5.0",
          "model_name": "HTMLModel",
          "state": {
            "_dom_classes": [],
            "_model_module": "@jupyter-widgets/controls",
            "_model_module_version": "1.5.0",
            "_model_name": "HTMLModel",
            "_view_count": null,
            "_view_module": "@jupyter-widgets/controls",
            "_view_module_version": "1.5.0",
            "_view_name": "HTMLView",
            "description": "",
            "description_tooltip": null,
            "layout": "IPY_MODEL_7711d60244244abf9932ec9d66a8a631",
            "placeholder": "​",
            "style": "IPY_MODEL_6baad9d41f4442d5801eda7c82b16726",
            "value": " 0/10 [00:00&lt;?, ?it/s]"
          }
        },
        "30d038436e2949f09d7a0fd48d597643": {
          "model_module": "@jupyter-widgets/base",
          "model_module_version": "1.2.0",
          "model_name": "LayoutModel",
          "state": {
            "_model_module": "@jupyter-widgets/base",
            "_model_module_version": "1.2.0",
            "_model_name": "LayoutModel",
            "_view_count": null,
            "_view_module": "@jupyter-widgets/base",
            "_view_module_version": "1.2.0",
            "_view_name": "LayoutView",
            "align_content": null,
            "align_items": null,
            "align_self": null,
            "border": null,
            "bottom": null,
            "display": null,
            "flex": null,
            "flex_flow": null,
            "grid_area": null,
            "grid_auto_columns": null,
            "grid_auto_flow": null,
            "grid_auto_rows": null,
            "grid_column": null,
            "grid_gap": null,
            "grid_row": null,
            "grid_template_areas": null,
            "grid_template_columns": null,
            "grid_template_rows": null,
            "height": null,
            "justify_content": null,
            "justify_items": null,
            "left": null,
            "margin": null,
            "max_height": null,
            "max_width": null,
            "min_height": null,
            "min_width": null,
            "object_fit": null,
            "object_position": null,
            "order": null,
            "overflow": null,
            "overflow_x": null,
            "overflow_y": null,
            "padding": null,
            "right": null,
            "top": null,
            "visibility": null,
            "width": null
          }
        },
        "4c1a991387704895aa63425c8cbf11de": {
          "model_module": "@jupyter-widgets/controls",
          "model_module_version": "1.5.0",
          "model_name": "ProgressStyleModel",
          "state": {
            "_model_module": "@jupyter-widgets/controls",
            "_model_module_version": "1.5.0",
            "_model_name": "ProgressStyleModel",
            "_view_count": null,
            "_view_module": "@jupyter-widgets/base",
            "_view_module_version": "1.2.0",
            "_view_name": "StyleView",
            "bar_color": null,
            "description_width": ""
          }
        },
        "4f8d049deca64321a3add9a5a8e78f6f": {
          "model_module": "@jupyter-widgets/controls",
          "model_module_version": "1.5.0",
          "model_name": "ProgressStyleModel",
          "state": {
            "_model_module": "@jupyter-widgets/controls",
            "_model_module_version": "1.5.0",
            "_model_name": "ProgressStyleModel",
            "_view_count": null,
            "_view_module": "@jupyter-widgets/base",
            "_view_module_version": "1.2.0",
            "_view_name": "StyleView",
            "bar_color": null,
            "description_width": ""
          }
        },
        "53b825fd84d74c1e9d5897ed38d80a27": {
          "model_module": "@jupyter-widgets/base",
          "model_module_version": "1.2.0",
          "model_name": "LayoutModel",
          "state": {
            "_model_module": "@jupyter-widgets/base",
            "_model_module_version": "1.2.0",
            "_model_name": "LayoutModel",
            "_view_count": null,
            "_view_module": "@jupyter-widgets/base",
            "_view_module_version": "1.2.0",
            "_view_name": "LayoutView",
            "align_content": null,
            "align_items": null,
            "align_self": null,
            "border": null,
            "bottom": null,
            "display": null,
            "flex": null,
            "flex_flow": null,
            "grid_area": null,
            "grid_auto_columns": null,
            "grid_auto_flow": null,
            "grid_auto_rows": null,
            "grid_column": null,
            "grid_gap": null,
            "grid_row": null,
            "grid_template_areas": null,
            "grid_template_columns": null,
            "grid_template_rows": null,
            "height": null,
            "justify_content": null,
            "justify_items": null,
            "left": null,
            "margin": null,
            "max_height": null,
            "max_width": null,
            "min_height": null,
            "min_width": null,
            "object_fit": null,
            "object_position": null,
            "order": null,
            "overflow": null,
            "overflow_x": null,
            "overflow_y": null,
            "padding": null,
            "right": null,
            "top": null,
            "visibility": null,
            "width": null
          }
        },
        "5b1b37f79d84489da8fea76a8f994395": {
          "model_module": "@jupyter-widgets/controls",
          "model_module_version": "1.5.0",
          "model_name": "HTMLModel",
          "state": {
            "_dom_classes": [],
            "_model_module": "@jupyter-widgets/controls",
            "_model_module_version": "1.5.0",
            "_model_name": "HTMLModel",
            "_view_count": null,
            "_view_module": "@jupyter-widgets/controls",
            "_view_module_version": "1.5.0",
            "_view_name": "HTMLView",
            "description": "",
            "description_tooltip": null,
            "layout": "IPY_MODEL_2b66d13bcdcb4173bc9eaca4e5fae6af",
            "placeholder": "​",
            "style": "IPY_MODEL_b51b91691d0b465e8b781be605f243cf",
            "value": "  0%"
          }
        },
        "60fc2667eb294045b182023e6e051418": {
          "model_module": "@jupyter-widgets/controls",
          "model_module_version": "1.5.0",
          "model_name": "HTMLModel",
          "state": {
            "_dom_classes": [],
            "_model_module": "@jupyter-widgets/controls",
            "_model_module_version": "1.5.0",
            "_model_name": "HTMLModel",
            "_view_count": null,
            "_view_module": "@jupyter-widgets/controls",
            "_view_module_version": "1.5.0",
            "_view_name": "HTMLView",
            "description": "",
            "description_tooltip": null,
            "layout": "IPY_MODEL_b81e1119d799471fbcfcfecd4cd4cb8b",
            "placeholder": "​",
            "style": "IPY_MODEL_7b31b67b8a054c50b7092bbcade1d489",
            "value": " 10/10 [01:02&lt;00:00,  6.49s/it]"
          }
        },
        "6baad9d41f4442d5801eda7c82b16726": {
          "model_module": "@jupyter-widgets/controls",
          "model_module_version": "1.5.0",
          "model_name": "DescriptionStyleModel",
          "state": {
            "_model_module": "@jupyter-widgets/controls",
            "_model_module_version": "1.5.0",
            "_model_name": "DescriptionStyleModel",
            "_view_count": null,
            "_view_module": "@jupyter-widgets/base",
            "_view_module_version": "1.2.0",
            "_view_name": "StyleView",
            "description_width": ""
          }
        },
        "70f32acc71d94c39b85668b1be15218b": {
          "model_module": "@jupyter-widgets/base",
          "model_module_version": "1.2.0",
          "model_name": "LayoutModel",
          "state": {
            "_model_module": "@jupyter-widgets/base",
            "_model_module_version": "1.2.0",
            "_model_name": "LayoutModel",
            "_view_count": null,
            "_view_module": "@jupyter-widgets/base",
            "_view_module_version": "1.2.0",
            "_view_name": "LayoutView",
            "align_content": null,
            "align_items": null,
            "align_self": null,
            "border": null,
            "bottom": null,
            "display": null,
            "flex": null,
            "flex_flow": null,
            "grid_area": null,
            "grid_auto_columns": null,
            "grid_auto_flow": null,
            "grid_auto_rows": null,
            "grid_column": null,
            "grid_gap": null,
            "grid_row": null,
            "grid_template_areas": null,
            "grid_template_columns": null,
            "grid_template_rows": null,
            "height": null,
            "justify_content": null,
            "justify_items": null,
            "left": null,
            "margin": null,
            "max_height": null,
            "max_width": null,
            "min_height": null,
            "min_width": null,
            "object_fit": null,
            "object_position": null,
            "order": null,
            "overflow": null,
            "overflow_x": null,
            "overflow_y": null,
            "padding": null,
            "right": null,
            "top": null,
            "visibility": null,
            "width": null
          }
        },
        "7711d60244244abf9932ec9d66a8a631": {
          "model_module": "@jupyter-widgets/base",
          "model_module_version": "1.2.0",
          "model_name": "LayoutModel",
          "state": {
            "_model_module": "@jupyter-widgets/base",
            "_model_module_version": "1.2.0",
            "_model_name": "LayoutModel",
            "_view_count": null,
            "_view_module": "@jupyter-widgets/base",
            "_view_module_version": "1.2.0",
            "_view_name": "LayoutView",
            "align_content": null,
            "align_items": null,
            "align_self": null,
            "border": null,
            "bottom": null,
            "display": null,
            "flex": null,
            "flex_flow": null,
            "grid_area": null,
            "grid_auto_columns": null,
            "grid_auto_flow": null,
            "grid_auto_rows": null,
            "grid_column": null,
            "grid_gap": null,
            "grid_row": null,
            "grid_template_areas": null,
            "grid_template_columns": null,
            "grid_template_rows": null,
            "height": null,
            "justify_content": null,
            "justify_items": null,
            "left": null,
            "margin": null,
            "max_height": null,
            "max_width": null,
            "min_height": null,
            "min_width": null,
            "object_fit": null,
            "object_position": null,
            "order": null,
            "overflow": null,
            "overflow_x": null,
            "overflow_y": null,
            "padding": null,
            "right": null,
            "top": null,
            "visibility": null,
            "width": null
          }
        },
        "7b31b67b8a054c50b7092bbcade1d489": {
          "model_module": "@jupyter-widgets/controls",
          "model_module_version": "1.5.0",
          "model_name": "DescriptionStyleModel",
          "state": {
            "_model_module": "@jupyter-widgets/controls",
            "_model_module_version": "1.5.0",
            "_model_name": "DescriptionStyleModel",
            "_view_count": null,
            "_view_module": "@jupyter-widgets/base",
            "_view_module_version": "1.2.0",
            "_view_name": "StyleView",
            "description_width": ""
          }
        },
        "82f9a501f8504de9a51117ded04c48ae": {
          "model_module": "@jupyter-widgets/controls",
          "model_module_version": "1.5.0",
          "model_name": "FloatProgressModel",
          "state": {
            "_dom_classes": [],
            "_model_module": "@jupyter-widgets/controls",
            "_model_module_version": "1.5.0",
            "_model_name": "FloatProgressModel",
            "_view_count": null,
            "_view_module": "@jupyter-widgets/controls",
            "_view_module_version": "1.5.0",
            "_view_name": "ProgressView",
            "bar_style": "",
            "description": "",
            "description_tooltip": null,
            "layout": "IPY_MODEL_089426b3747a4dcca099a497df0fa4d5",
            "max": 10,
            "min": 0,
            "orientation": "horizontal",
            "style": "IPY_MODEL_4f8d049deca64321a3add9a5a8e78f6f",
            "value": 0
          }
        },
        "871d19615691421a9d6dd77520f2e874": {
          "model_module": "@jupyter-widgets/controls",
          "model_module_version": "1.5.0",
          "model_name": "HBoxModel",
          "state": {
            "_dom_classes": [],
            "_model_module": "@jupyter-widgets/controls",
            "_model_module_version": "1.5.0",
            "_model_name": "HBoxModel",
            "_view_count": null,
            "_view_module": "@jupyter-widgets/controls",
            "_view_module_version": "1.5.0",
            "_view_name": "HBoxView",
            "box_style": "",
            "children": [
              "IPY_MODEL_5b1b37f79d84489da8fea76a8f994395",
              "IPY_MODEL_82f9a501f8504de9a51117ded04c48ae",
              "IPY_MODEL_2eef5259bbce4e97934b6f9ca1c06397"
            ],
            "layout": "IPY_MODEL_30d038436e2949f09d7a0fd48d597643"
          }
        },
        "a631ec13d50c407197b45fe7ac35e0d8": {
          "model_module": "@jupyter-widgets/controls",
          "model_module_version": "1.5.0",
          "model_name": "FloatProgressModel",
          "state": {
            "_dom_classes": [],
            "_model_module": "@jupyter-widgets/controls",
            "_model_module_version": "1.5.0",
            "_model_name": "FloatProgressModel",
            "_view_count": null,
            "_view_module": "@jupyter-widgets/controls",
            "_view_module_version": "1.5.0",
            "_view_name": "ProgressView",
            "bar_style": "success",
            "description": "",
            "description_tooltip": null,
            "layout": "IPY_MODEL_70f32acc71d94c39b85668b1be15218b",
            "max": 10,
            "min": 0,
            "orientation": "horizontal",
            "style": "IPY_MODEL_4c1a991387704895aa63425c8cbf11de",
            "value": 10
          }
        },
        "b51b91691d0b465e8b781be605f243cf": {
          "model_module": "@jupyter-widgets/controls",
          "model_module_version": "1.5.0",
          "model_name": "DescriptionStyleModel",
          "state": {
            "_model_module": "@jupyter-widgets/controls",
            "_model_module_version": "1.5.0",
            "_model_name": "DescriptionStyleModel",
            "_view_count": null,
            "_view_module": "@jupyter-widgets/base",
            "_view_module_version": "1.2.0",
            "_view_name": "StyleView",
            "description_width": ""
          }
        },
        "b81e1119d799471fbcfcfecd4cd4cb8b": {
          "model_module": "@jupyter-widgets/base",
          "model_module_version": "1.2.0",
          "model_name": "LayoutModel",
          "state": {
            "_model_module": "@jupyter-widgets/base",
            "_model_module_version": "1.2.0",
            "_model_name": "LayoutModel",
            "_view_count": null,
            "_view_module": "@jupyter-widgets/base",
            "_view_module_version": "1.2.0",
            "_view_name": "LayoutView",
            "align_content": null,
            "align_items": null,
            "align_self": null,
            "border": null,
            "bottom": null,
            "display": null,
            "flex": null,
            "flex_flow": null,
            "grid_area": null,
            "grid_auto_columns": null,
            "grid_auto_flow": null,
            "grid_auto_rows": null,
            "grid_column": null,
            "grid_gap": null,
            "grid_row": null,
            "grid_template_areas": null,
            "grid_template_columns": null,
            "grid_template_rows": null,
            "height": null,
            "justify_content": null,
            "justify_items": null,
            "left": null,
            "margin": null,
            "max_height": null,
            "max_width": null,
            "min_height": null,
            "min_width": null,
            "object_fit": null,
            "object_position": null,
            "order": null,
            "overflow": null,
            "overflow_x": null,
            "overflow_y": null,
            "padding": null,
            "right": null,
            "top": null,
            "visibility": null,
            "width": null
          }
        },
        "c93c6f4744fe42309f0468404b17987f": {
          "model_module": "@jupyter-widgets/controls",
          "model_module_version": "1.5.0",
          "model_name": "HBoxModel",
          "state": {
            "_dom_classes": [],
            "_model_module": "@jupyter-widgets/controls",
            "_model_module_version": "1.5.0",
            "_model_name": "HBoxModel",
            "_view_count": null,
            "_view_module": "@jupyter-widgets/controls",
            "_view_module_version": "1.5.0",
            "_view_name": "HBoxView",
            "box_style": "",
            "children": [
              "IPY_MODEL_cb98d3a1f4a943eab51248ba9842153e",
              "IPY_MODEL_a631ec13d50c407197b45fe7ac35e0d8",
              "IPY_MODEL_60fc2667eb294045b182023e6e051418"
            ],
            "layout": "IPY_MODEL_2a3da4fc8762465db857ad07f5130291"
          }
        },
        "cb98d3a1f4a943eab51248ba9842153e": {
          "model_module": "@jupyter-widgets/controls",
          "model_module_version": "1.5.0",
          "model_name": "HTMLModel",
          "state": {
            "_dom_classes": [],
            "_model_module": "@jupyter-widgets/controls",
            "_model_module_version": "1.5.0",
            "_model_name": "HTMLModel",
            "_view_count": null,
            "_view_module": "@jupyter-widgets/controls",
            "_view_module_version": "1.5.0",
            "_view_name": "HTMLView",
            "description": "",
            "description_tooltip": null,
            "layout": "IPY_MODEL_53b825fd84d74c1e9d5897ed38d80a27",
            "placeholder": "​",
            "style": "IPY_MODEL_e205b4cfe23c40a59ec0d93833c35550",
            "value": "100%"
          }
        },
        "e205b4cfe23c40a59ec0d93833c35550": {
          "model_module": "@jupyter-widgets/controls",
          "model_module_version": "1.5.0",
          "model_name": "DescriptionStyleModel",
          "state": {
            "_model_module": "@jupyter-widgets/controls",
            "_model_module_version": "1.5.0",
            "_model_name": "DescriptionStyleModel",
            "_view_count": null,
            "_view_module": "@jupyter-widgets/base",
            "_view_module_version": "1.2.0",
            "_view_name": "StyleView",
            "description_width": ""
          }
        }
      }
    }
  },
  "nbformat": 4,
  "nbformat_minor": 5
}